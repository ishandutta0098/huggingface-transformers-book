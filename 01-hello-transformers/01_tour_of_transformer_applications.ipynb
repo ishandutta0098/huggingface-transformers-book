{
 "cells": [
  {
   "attachments": {},
   "cell_type": "markdown",
   "metadata": {},
   "source": [
    "# Tour of Transformer Applications"
   ]
  },
  {
   "attachments": {},
   "cell_type": "markdown",
   "metadata": {},
   "source": [
    "## Preliminaries"
   ]
  },
  {
   "cell_type": "code",
   "execution_count": 1,
   "metadata": {},
   "outputs": [],
   "source": [
    "import pandas as pd\n",
    "from transformers import pipeline"
   ]
  },
  {
   "cell_type": "code",
   "execution_count": 3,
   "metadata": {},
   "outputs": [],
   "source": [
    "# Sample Text\n",
    "\n",
    "text = \"\"\"The sun cast a warm, golden hue over the town of Townsville, filling every corner with a radiant glow. \n",
    "Children's laughter echoed through Main Street as they chased after one another, their faces lit up with pure joy. \n",
    "Birds sang harmoniously from the treetops near Central Park, their melodies intertwining with the gentle hum of life below. \n",
    "Everywhere you looked, there were signs of happiness and contentment. Mr. Johnson and Mrs. Smith greeted each other with \n",
    "genuine smiles outside the Townsville Cafe, sharing stories and creating memories. It was one of those days where everything \n",
    "felt right in the world, and a deep sense of gratitude filled the hearts of all who were fortunate enough to experience it.\"\"\""
   ]
  },
  {
   "attachments": {},
   "cell_type": "markdown",
   "metadata": {},
   "source": [
    "## Text Classification"
   ]
  },
  {
   "cell_type": "code",
   "execution_count": null,
   "metadata": {},
   "outputs": [],
   "source": [
    "# Obtain text classification pipeline\n",
    "classifier = pipeline(\"text-classification\")"
   ]
  },
  {
   "cell_type": "code",
   "execution_count": 19,
   "metadata": {},
   "outputs": [
    {
     "data": {
      "text/html": [
       "<div>\n",
       "<style scoped>\n",
       "    .dataframe tbody tr th:only-of-type {\n",
       "        vertical-align: middle;\n",
       "    }\n",
       "\n",
       "    .dataframe tbody tr th {\n",
       "        vertical-align: top;\n",
       "    }\n",
       "\n",
       "    .dataframe thead th {\n",
       "        text-align: right;\n",
       "    }\n",
       "</style>\n",
       "<table border=\"1\" class=\"dataframe\">\n",
       "  <thead>\n",
       "    <tr style=\"text-align: right;\">\n",
       "      <th></th>\n",
       "      <th>label</th>\n",
       "      <th>score</th>\n",
       "    </tr>\n",
       "  </thead>\n",
       "  <tbody>\n",
       "    <tr>\n",
       "      <th>0</th>\n",
       "      <td>POSITIVE</td>\n",
       "      <td>0.999867</td>\n",
       "    </tr>\n",
       "  </tbody>\n",
       "</table>\n",
       "</div>"
      ],
      "text/plain": [
       "      label     score\n",
       "0  POSITIVE  0.999867"
      ]
     },
     "execution_count": 19,
     "metadata": {},
     "output_type": "execute_result"
    }
   ],
   "source": [
    "# Obtain classification outputs\n",
    "\n",
    "outputs = classifier(text)\n",
    "pd.DataFrame(outputs)"
   ]
  },
  {
   "attachments": {},
   "cell_type": "markdown",
   "metadata": {},
   "source": [
    "---"
   ]
  },
  {
   "attachments": {},
   "cell_type": "markdown",
   "metadata": {},
   "source": [
    "## Named Entity Recognition"
   ]
  },
  {
   "cell_type": "code",
   "execution_count": null,
   "metadata": {},
   "outputs": [],
   "source": [
    "# Intialize ner pipeline\n",
    "ner_tagger = pipeline(\"ner\", aggregation_strategy=\"simple\")"
   ]
  },
  {
   "cell_type": "code",
   "execution_count": 16,
   "metadata": {},
   "outputs": [
    {
     "data": {
      "text/html": [
       "<div>\n",
       "<style scoped>\n",
       "    .dataframe tbody tr th:only-of-type {\n",
       "        vertical-align: middle;\n",
       "    }\n",
       "\n",
       "    .dataframe tbody tr th {\n",
       "        vertical-align: top;\n",
       "    }\n",
       "\n",
       "    .dataframe thead th {\n",
       "        text-align: right;\n",
       "    }\n",
       "</style>\n",
       "<table border=\"1\" class=\"dataframe\">\n",
       "  <thead>\n",
       "    <tr style=\"text-align: right;\">\n",
       "      <th></th>\n",
       "      <th>entity_group</th>\n",
       "      <th>score</th>\n",
       "      <th>word</th>\n",
       "      <th>start</th>\n",
       "      <th>end</th>\n",
       "    </tr>\n",
       "  </thead>\n",
       "  <tbody>\n",
       "    <tr>\n",
       "      <th>0</th>\n",
       "      <td>LOC</td>\n",
       "      <td>0.998360</td>\n",
       "      <td>Townsville</td>\n",
       "      <td>49</td>\n",
       "      <td>59</td>\n",
       "    </tr>\n",
       "    <tr>\n",
       "      <th>1</th>\n",
       "      <td>LOC</td>\n",
       "      <td>0.961294</td>\n",
       "      <td>Main Street</td>\n",
       "      <td>138</td>\n",
       "      <td>149</td>\n",
       "    </tr>\n",
       "    <tr>\n",
       "      <th>2</th>\n",
       "      <td>LOC</td>\n",
       "      <td>0.994377</td>\n",
       "      <td>Central Park</td>\n",
       "      <td>265</td>\n",
       "      <td>277</td>\n",
       "    </tr>\n",
       "    <tr>\n",
       "      <th>3</th>\n",
       "      <td>PER</td>\n",
       "      <td>0.998310</td>\n",
       "      <td>Johnson</td>\n",
       "      <td>416</td>\n",
       "      <td>423</td>\n",
       "    </tr>\n",
       "    <tr>\n",
       "      <th>4</th>\n",
       "      <td>PER</td>\n",
       "      <td>0.996285</td>\n",
       "      <td>Smith</td>\n",
       "      <td>433</td>\n",
       "      <td>438</td>\n",
       "    </tr>\n",
       "    <tr>\n",
       "      <th>5</th>\n",
       "      <td>LOC</td>\n",
       "      <td>0.776872</td>\n",
       "      <td>Townsville Cafe</td>\n",
       "      <td>490</td>\n",
       "      <td>505</td>\n",
       "    </tr>\n",
       "  </tbody>\n",
       "</table>\n",
       "</div>"
      ],
      "text/plain": [
       "  entity_group     score             word  start  end\n",
       "0          LOC  0.998360       Townsville     49   59\n",
       "1          LOC  0.961294      Main Street    138  149\n",
       "2          LOC  0.994377     Central Park    265  277\n",
       "3          PER  0.998310          Johnson    416  423\n",
       "4          PER  0.996285            Smith    433  438\n",
       "5          LOC  0.776872  Townsville Cafe    490  505"
      ]
     },
     "execution_count": 16,
     "metadata": {},
     "output_type": "execute_result"
    }
   ],
   "source": [
    "# Obtain named entity recognition outputs\n",
    "outputs = ner_tagger(text)\n",
    "pd.DataFrame(outputs)"
   ]
  },
  {
   "attachments": {},
   "cell_type": "markdown",
   "metadata": {},
   "source": [
    "---"
   ]
  },
  {
   "attachments": {},
   "cell_type": "markdown",
   "metadata": {},
   "source": [
    "## Question Answering"
   ]
  },
  {
   "cell_type": "code",
   "execution_count": null,
   "metadata": {},
   "outputs": [],
   "source": [
    "# Intialize question answering pipeline\n",
    "qna_pipeline = pipeline(\"question-answering\")"
   ]
  },
  {
   "cell_type": "code",
   "execution_count": 22,
   "metadata": {},
   "outputs": [
    {
     "data": {
      "text/html": [
       "<div>\n",
       "<style scoped>\n",
       "    .dataframe tbody tr th:only-of-type {\n",
       "        vertical-align: middle;\n",
       "    }\n",
       "\n",
       "    .dataframe tbody tr th {\n",
       "        vertical-align: top;\n",
       "    }\n",
       "\n",
       "    .dataframe thead th {\n",
       "        text-align: right;\n",
       "    }\n",
       "</style>\n",
       "<table border=\"1\" class=\"dataframe\">\n",
       "  <thead>\n",
       "    <tr style=\"text-align: right;\">\n",
       "      <th></th>\n",
       "      <th>score</th>\n",
       "      <th>start</th>\n",
       "      <th>end</th>\n",
       "      <th>answer</th>\n",
       "    </tr>\n",
       "  </thead>\n",
       "  <tbody>\n",
       "    <tr>\n",
       "      <th>0</th>\n",
       "      <td>0.942854</td>\n",
       "      <td>49</td>\n",
       "      <td>59</td>\n",
       "      <td>Townsville</td>\n",
       "    </tr>\n",
       "  </tbody>\n",
       "</table>\n",
       "</div>"
      ],
      "text/plain": [
       "      score  start  end      answer\n",
       "0  0.942854     49   59  Townsville"
      ]
     },
     "execution_count": 22,
     "metadata": {},
     "output_type": "execute_result"
    }
   ],
   "source": [
    "question = \"What is the name of the town in the text?\"\n",
    "\n",
    "# Obtain question answering outputs\n",
    "outputs = qna_pipeline(question=question, context=text)\n",
    "pd.DataFrame([outputs])"
   ]
  },
  {
   "attachments": {},
   "cell_type": "markdown",
   "metadata": {},
   "source": [
    "---"
   ]
  },
  {
   "attachments": {},
   "cell_type": "markdown",
   "metadata": {},
   "source": [
    "## Summarization"
   ]
  },
  {
   "cell_type": "code",
   "execution_count": null,
   "metadata": {},
   "outputs": [],
   "source": [
    "# Initialize summarizer\n",
    "summarizer = pipeline(\"summarization\")"
   ]
  },
  {
   "cell_type": "code",
   "execution_count": 27,
   "metadata": {},
   "outputs": [
    {
     "name": "stdout",
     "output_type": "stream",
     "text": [
      " The sun cast a warm, golden hue over Townsville, filling every corner with a radiant glow. Children's laughter echoed through Main Street as they chased after one another, their faces lit up with pure joy. Birds sang harmoniously from the treetops near Central Park, their melodies intertwining with the gentle hum of life below.\n"
     ]
    }
   ],
   "source": [
    "# Obtain summarization outputs\n",
    "outputs = summarizer(\n",
    "    text, max_length=70, min_length=10, clean_up_tokenization_spaces=True\n",
    ")\n",
    "print(outputs[0][\"summary_text\"])"
   ]
  },
  {
   "attachments": {},
   "cell_type": "markdown",
   "metadata": {},
   "source": [
    "---"
   ]
  },
  {
   "attachments": {},
   "cell_type": "markdown",
   "metadata": {},
   "source": [
    "## Translation"
   ]
  },
  {
   "cell_type": "code",
   "execution_count": null,
   "metadata": {},
   "outputs": [],
   "source": [
    "# Initialize translation pipeline\n",
    "translator = pipeline(\"translation_en_to_de\", model=\"Helsinki-NLP/opus-mt-en-de\")"
   ]
  },
  {
   "cell_type": "code",
   "execution_count": 5,
   "metadata": {},
   "outputs": [
    {
     "name": "stdout",
     "output_type": "stream",
     "text": [
      "Die Sonne strahlte einen warmen, goldenen Farbton über die Stadt Townsville und füllte jede Ecke mit einem strahlenden Glanz. Kinderlachen hallte durch die Main Street, als sie einander nachjagten, ihre Gesichter leuchteten vor purer Freude auf. Vögel sangen harmonisch von den Baumkronen in der Nähe des Central Park, ihre Melodien verbanden sich mit dem sanften Summen des Lebens darunter. Überall, wo man hinsah, gab es Anzeichen von Glück und Zufriedenheit. Mr. Johnson und Mrs. Smith begrüßten sich gegenseitig mit echtem Lächeln außerhalb des Townsville Cafes, erzählten Geschichten und schufen Erinnerungen. Es war einer jener Tage, an denen sich alles richtig anfühlte, und ein tiefes Gefühl der Dankbarkeit erfüllte die Herzen aller, die das Glück hatten, es zu erleben.\n"
     ]
    }
   ],
   "source": [
    "# Obtain outputs\n",
    "outputs = translator(text, clean_up_tokenization_spaces=True, min_length=100)\n",
    "print(outputs[0][\"translation_text\"])"
   ]
  },
  {
   "attachments": {},
   "cell_type": "markdown",
   "metadata": {},
   "source": [
    "---"
   ]
  },
  {
   "attachments": {},
   "cell_type": "markdown",
   "metadata": {},
   "source": [
    "## Text Generation"
   ]
  },
  {
   "cell_type": "code",
   "execution_count": null,
   "metadata": {},
   "outputs": [],
   "source": [
    "# Initialize text generation pipeline\n",
    "generator = pipeline(\"text-generation\")"
   ]
  },
  {
   "cell_type": "code",
   "execution_count": 20,
   "metadata": {},
   "outputs": [
    {
     "name": "stderr",
     "output_type": "stream",
     "text": [
      "Setting `pad_token_id` to `eos_token_id`:50256 for open-end generation.\n"
     ]
    },
    {
     "name": "stdout",
     "output_type": "stream",
     "text": [
      "The sun cast a warm, golden hue over the town of Townsville, filling every corner with a radiant glow. \n",
      "Children's laughter echoed through Main Street as they chased after one another, their faces lit up with pure joy. \n",
      "Birds sang harmoniously from the treetops near Central Park, their melodies intertwining with the gentle hum of life below. \n",
      "Everywhere you looked, there were signs of happiness and contentment. Mr. Johnson and Mrs. Smith greeted each other with \n",
      "genuine smiles outside the Townsville Cafe, sharing stories and creating memories. It was one of those days where everything \n",
      "felt right in the world, and a deep sense of gratitude filled the hearts of all who were fortunate enough to experience it.\n",
      "\n",
      " Model Response \n",
      "Mr. Johnson asked Mrs. Smith if a cappuccino was available for her and she replied, \"No. I only bought one to help with a trip up to St. Croix.\" \n",
      "A few minutes later, there was a call from Ms. Smith to pick up a cactus\n"
     ]
    }
   ],
   "source": [
    "# Obtain outputs\n",
    "\n",
    "response = \"Mr. Johnson asked Mrs. Smith if a cappuccino was available\"\n",
    "prompt = text + \"\\n\\n Model Response \\n\" + response\n",
    "outputs = generator(prompt, max_length=220)\n",
    "print(outputs[0][\"generated_text\"])"
   ]
  },
  {
   "attachments": {},
   "cell_type": "markdown",
   "metadata": {},
   "source": [
    "---"
   ]
  }
 ],
 "metadata": {
  "kernelspec": {
   "display_name": "ml",
   "language": "python",
   "name": "python3"
  },
  "language_info": {
   "codemirror_mode": {
    "name": "ipython",
    "version": 3
   },
   "file_extension": ".py",
   "mimetype": "text/x-python",
   "name": "python",
   "nbconvert_exporter": "python",
   "pygments_lexer": "ipython3",
   "version": "3.10.9"
  },
  "orig_nbformat": 4,
  "vscode": {
   "interpreter": {
    "hash": "9b51ff12256642034b227bb3e81fea3c9a2fd43bd00fa5cde89e7fa0a76a852c"
   }
  }
 },
 "nbformat": 4,
 "nbformat_minor": 2
}
