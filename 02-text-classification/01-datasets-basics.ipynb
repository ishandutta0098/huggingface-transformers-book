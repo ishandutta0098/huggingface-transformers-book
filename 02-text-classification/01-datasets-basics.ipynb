{
 "cells": [
  {
   "attachments": {},
   "cell_type": "markdown",
   "metadata": {},
   "source": [
    "# Text Classification"
   ]
  },
  {
   "cell_type": "code",
   "execution_count": 1,
   "metadata": {},
   "outputs": [],
   "source": [
    "from datasets import list_datasets, load_dataset"
   ]
  },
  {
   "attachments": {},
   "cell_type": "markdown",
   "metadata": {},
   "source": [
    "## A First Look at HuggingFace Datasets"
   ]
  },
  {
   "cell_type": "code",
   "execution_count": 5,
   "metadata": {},
   "outputs": [
    {
     "name": "stdout",
     "output_type": "stream",
     "text": [
      "Number of datasets on the Hub: 67271\n",
      "First 5 Datasets: ['acronym_identification', 'ade_corpus_v2', 'adversarial_qa', 'aeslc', 'afrikaans_ner_corpus']\n"
     ]
    }
   ],
   "source": [
    "# Glimpse of HuggingFace datasets\n",
    "\n",
    "all_datasets = list_datasets()\n",
    "print(f\"Number of datasets on the Hub: {len(all_datasets)}\")\n",
    "print(f\"First 5 Datasets: {all_datasets[:5]}\")"
   ]
  },
  {
   "cell_type": "code",
   "execution_count": 4,
   "metadata": {},
   "outputs": [
    {
     "name": "stdout",
     "output_type": "stream",
     "text": [
      "DatasetDict({\n",
      "    train: Dataset({\n",
      "        features: ['text', 'label'],\n",
      "        num_rows: 16000\n",
      "    })\n",
      "    validation: Dataset({\n",
      "        features: ['text', 'label'],\n",
      "        num_rows: 2000\n",
      "    })\n",
      "    test: Dataset({\n",
      "        features: ['text', 'label'],\n",
      "        num_rows: 2000\n",
      "    })\n",
      "})\n"
     ]
    }
   ],
   "source": [
    "# Load emotion dataset\n",
    "emotions = load_dataset(\"emotion\")  \n",
    "\n",
    "# Print emotions dataset\n",
    "print(emotions)"
   ]
  },
  {
   "cell_type": "code",
   "execution_count": 9,
   "metadata": {},
   "outputs": [
    {
     "name": "stdout",
     "output_type": "stream",
     "text": [
      "\n",
      "train_ds: Dataset({\n",
      "    features: ['text', 'label'],\n",
      "    num_rows: 16000\n",
      "})\n",
      "\n",
      "First training example: {'text': 'i didnt feel humiliated', 'label': 0}\n",
      "\n",
      "Number of training examples: 16000\n",
      "\n",
      "Column names: ['text', 'label']\n",
      "\n",
      "Features: {'text': Value(dtype='string', id=None), 'label': ClassLabel(names=['sadness', 'joy', 'love', 'anger', 'fear', 'surprise'], id=None)}\n",
      "\n",
      "Texts of First 5 training example: ['i didnt feel humiliated', 'i can go from feeling so hopeless to so damned hopeful just from being around someone who cares and is awake', 'im grabbing a minute to post i feel greedy wrong', 'i am ever feeling nostalgic about the fireplace i will know that it is still on the property', 'i am feeling grouchy']\n",
      "\n",
      "Labels of First 5 training example: [0, 0, 3, 2, 3]\n"
     ]
    }
   ],
   "source": [
    "# Accessing splits\n",
    "\n",
    "train_ds = emotions[\"train\"]\n",
    "\n",
    "print(f\"\\ntrain_ds: {train_ds}\")\n",
    "print(f\"\\nFirst training example: {train_ds[0]}\")\n",
    "print(f\"\\nNumber of training examples: {len(train_ds)}\")\n",
    "print(f\"\\nColumn names: {train_ds.column_names}\")\n",
    "print(f\"\\nFeatures: {train_ds.features}\")\n",
    "print(f\"\\nTexts of First 5 training example: {train_ds[:5]['text']}\")\n",
    "print(f\"\\nLabels of First 5 training example: {train_ds[:5]['label']}\")\n"
   ]
  },
  {
   "attachments": {},
   "cell_type": "markdown",
   "metadata": {},
   "source": [
    "---"
   ]
  }
 ],
 "metadata": {
  "kernelspec": {
   "display_name": "ml",
   "language": "python",
   "name": "python3"
  },
  "language_info": {
   "codemirror_mode": {
    "name": "ipython",
    "version": 3
   },
   "file_extension": ".py",
   "mimetype": "text/x-python",
   "name": "python",
   "nbconvert_exporter": "python",
   "pygments_lexer": "ipython3",
   "version": "3.10.9"
  },
  "orig_nbformat": 4,
  "vscode": {
   "interpreter": {
    "hash": "9b51ff12256642034b227bb3e81fea3c9a2fd43bd00fa5cde89e7fa0a76a852c"
   }
  }
 },
 "nbformat": 4,
 "nbformat_minor": 2
}
